{
 "cells": [
  {
   "cell_type": "code",
   "execution_count": 1,
   "id": "7afae725",
   "metadata": {},
   "outputs": [],
   "source": [
    "import sqlite3 as sl\n",
    "import pandas as pd"
   ]
  },
  {
   "cell_type": "code",
   "execution_count": 2,
   "id": "bf40b374",
   "metadata": {},
   "outputs": [
    {
     "data": {
      "text/html": [
       "<div>\n",
       "<style scoped>\n",
       "    .dataframe tbody tr th:only-of-type {\n",
       "        vertical-align: middle;\n",
       "    }\n",
       "\n",
       "    .dataframe tbody tr th {\n",
       "        vertical-align: top;\n",
       "    }\n",
       "\n",
       "    .dataframe thead th {\n",
       "        text-align: right;\n",
       "    }\n",
       "</style>\n",
       "<table border=\"1\" class=\"dataframe\">\n",
       "  <thead>\n",
       "    <tr style=\"text-align: right;\">\n",
       "      <th></th>\n",
       "      <th>ROUND</th>\n",
       "      <th>ANSWER</th>\n",
       "    </tr>\n",
       "  </thead>\n",
       "  <tbody>\n",
       "    <tr>\n",
       "      <th>0</th>\n",
       "      <td>1</td>\n",
       "      <td>PLEAT</td>\n",
       "    </tr>\n",
       "    <tr>\n",
       "      <th>1</th>\n",
       "      <td>2</td>\n",
       "      <td>ALOFT</td>\n",
       "    </tr>\n",
       "    <tr>\n",
       "      <th>2</th>\n",
       "      <td>3</td>\n",
       "      <td>FRAME</td>\n",
       "    </tr>\n",
       "    <tr>\n",
       "      <th>3</th>\n",
       "      <td>4</td>\n",
       "      <td>FLOCK</td>\n",
       "    </tr>\n",
       "    <tr>\n",
       "      <th>4</th>\n",
       "      <td>5</td>\n",
       "      <td>STATE</td>\n",
       "    </tr>\n",
       "  </tbody>\n",
       "</table>\n",
       "</div>"
      ],
      "text/plain": [
       "   ROUND ANSWER\n",
       "0      1  PLEAT\n",
       "1      2  ALOFT\n",
       "2      3  FRAME\n",
       "3      4  FLOCK\n",
       "4      5  STATE"
      ]
     },
     "execution_count": 2,
     "metadata": {},
     "output_type": "execute_result"
    }
   ],
   "source": [
    "# Creating a database from a csv\n",
    "# First create a dataframe\n",
    "\n",
    "df = pd.read_csv('answers.csv')\n",
    "df.head()"
   ]
  },
  {
   "cell_type": "code",
   "execution_count": 3,
   "id": "ffd517b7",
   "metadata": {},
   "outputs": [
    {
     "data": {
      "text/plain": [
       "5"
      ]
     },
     "execution_count": 3,
     "metadata": {},
     "output_type": "execute_result"
    }
   ],
   "source": [
    "# Create the database including a table with the dataframe\n",
    "con = sl.connect('wordle.db')\n",
    "df.to_sql(\"key\", con, if_exists= 'replace')"
   ]
  },
  {
   "cell_type": "code",
   "execution_count": 4,
   "id": "ced52183",
   "metadata": {},
   "outputs": [
    {
     "data": {
      "text/html": [
       "<div>\n",
       "<style scoped>\n",
       "    .dataframe tbody tr th:only-of-type {\n",
       "        vertical-align: middle;\n",
       "    }\n",
       "\n",
       "    .dataframe tbody tr th {\n",
       "        vertical-align: top;\n",
       "    }\n",
       "\n",
       "    .dataframe thead th {\n",
       "        text-align: right;\n",
       "    }\n",
       "</style>\n",
       "<table border=\"1\" class=\"dataframe\">\n",
       "  <thead>\n",
       "    <tr style=\"text-align: right;\">\n",
       "      <th></th>\n",
       "      <th>index</th>\n",
       "      <th>ROUND</th>\n",
       "      <th>ANSWER</th>\n",
       "    </tr>\n",
       "  </thead>\n",
       "  <tbody>\n",
       "    <tr>\n",
       "      <th>0</th>\n",
       "      <td>0</td>\n",
       "      <td>1</td>\n",
       "      <td>PLEAT</td>\n",
       "    </tr>\n",
       "    <tr>\n",
       "      <th>1</th>\n",
       "      <td>1</td>\n",
       "      <td>2</td>\n",
       "      <td>ALOFT</td>\n",
       "    </tr>\n",
       "    <tr>\n",
       "      <th>2</th>\n",
       "      <td>2</td>\n",
       "      <td>3</td>\n",
       "      <td>FRAME</td>\n",
       "    </tr>\n",
       "    <tr>\n",
       "      <th>3</th>\n",
       "      <td>3</td>\n",
       "      <td>4</td>\n",
       "      <td>FLOCK</td>\n",
       "    </tr>\n",
       "    <tr>\n",
       "      <th>4</th>\n",
       "      <td>4</td>\n",
       "      <td>5</td>\n",
       "      <td>STATE</td>\n",
       "    </tr>\n",
       "  </tbody>\n",
       "</table>\n",
       "</div>"
      ],
      "text/plain": [
       "   index  ROUND ANSWER\n",
       "0      0      1  PLEAT\n",
       "1      1      2  ALOFT\n",
       "2      2      3  FRAME\n",
       "3      3      4  FLOCK\n",
       "4      4      5  STATE"
      ]
     },
     "execution_count": 4,
     "metadata": {},
     "output_type": "execute_result"
    }
   ],
   "source": [
    "# Check the table\n",
    "data = pd.read_sql_query(\"Select * from key\", con)\n",
    "data.head()\n",
    "\n",
    "# Note how sqlite added an index to the table without having to be told!"
   ]
  },
  {
   "cell_type": "code",
   "execution_count": 7,
   "id": "29bf5dec",
   "metadata": {},
   "outputs": [
    {
     "ename": "TypeError",
     "evalue": "function takes exactly 2 arguments (1 given)",
     "output_type": "error",
     "traceback": [
      "\u001b[0;31m---------------------------------------------------------------------------\u001b[0m",
      "\u001b[0;31mTypeError\u001b[0m                                 Traceback (most recent call last)",
      "Input \u001b[0;32mIn [7]\u001b[0m, in \u001b[0;36m<cell line: 6>\u001b[0;34m()\u001b[0m\n\u001b[1;32m      1\u001b[0m \u001b[38;5;66;03m# # Creating a table from scratch\u001b[39;00m\n\u001b[1;32m      2\u001b[0m \u001b[38;5;66;03m# with con:\u001b[39;00m\n\u001b[1;32m      3\u001b[0m \u001b[38;5;66;03m#     con.execute(\"\"\"\u001b[39;00m\n\u001b[1;32m      4\u001b[0m \u001b[38;5;66;03m#     DROP TABLE IF EXISTS guess;\"\"\")\u001b[39;00m\n\u001b[1;32m      6\u001b[0m \u001b[38;5;28;01mwith\u001b[39;00m con:\n\u001b[0;32m----> 7\u001b[0m     \u001b[43mcon\u001b[49m\u001b[38;5;241;43m.\u001b[39;49m\u001b[43mexecutemany\u001b[49m\u001b[43m(\u001b[49m\u001b[38;5;124;43m\"\"\"\u001b[39;49m\n\u001b[1;32m      8\u001b[0m \u001b[38;5;124;43m        (DROP TABLE IF EXISTS guess;),\u001b[39;49m\n\u001b[1;32m      9\u001b[0m \u001b[38;5;124;43m        (CREATE TABLE guess (\u001b[39;49m\n\u001b[1;32m     10\u001b[0m \u001b[38;5;124;43m            Round INTEGER,\u001b[39;49m\n\u001b[1;32m     11\u001b[0m \u001b[38;5;124;43m            Attempt INTEGER,\u001b[39;49m\n\u001b[1;32m     12\u001b[0m \u001b[38;5;124;43m            Word TEXT\u001b[39;49m\n\u001b[1;32m     13\u001b[0m \u001b[38;5;124;43m            );)\u001b[39;49m\n\u001b[1;32m     14\u001b[0m \u001b[38;5;124;43m    \u001b[39;49m\u001b[38;5;124;43m\"\"\"\u001b[39;49m\u001b[43m)\u001b[49m\n",
      "\u001b[0;31mTypeError\u001b[0m: function takes exactly 2 arguments (1 given)"
     ]
    }
   ],
   "source": [
    "# Creating a table from scratch\n",
    "with con:\n",
    "    con.execute(\"\"\"\n",
    "    DROP TABLE IF EXISTS guess;\"\"\")\n",
    "\n",
    "with con:\n",
    "    con.executemany(\"\"\"\n",
    "        DROP TABLE IF EXISTS guess;\n",
    "        CREATE TABLE guess (\n",
    "            Round INTEGER,\n",
    "            Attempt INTEGER,\n",
    "            Word TEXT\n",
    "            );\n",
    "    \"\"\")"
   ]
  },
  {
   "cell_type": "code",
   "execution_count": null,
   "id": "b935e6d5",
   "metadata": {},
   "outputs": [],
   "source": [
    "# Adding a record\n",
    "con.execute(\"\"\"INSERT INTO guess (Round, Attempt, Word)\n",
    "        VALUES (1, 1, 'THREAD')\"\"\")\n",
    "\n",
    "data = pd.read_sql_query(\"Select * from guess\", con)\n",
    "data.head()"
   ]
  },
  {
   "cell_type": "code",
   "execution_count": null,
   "id": "20095312",
   "metadata": {},
   "outputs": [],
   "source": [
    "# Adding multiple records\n",
    "sql = 'INSERT INTO guess (Round, Attempt, Word) values(?,?,?)'\n",
    "\n",
    "data = [\n",
    "    (1,1,'THREAD'),\n",
    "    (1,2, 'WHEAT'),\n",
    "    (1,3, 'PLEAT'),\n",
    "    (2,1, 'READY'),\n",
    "    (2,2, 'PAINT'),\n",
    "    (2,3, 'FAINT'), \n",
    "    (2,4, 'AFOOT'),\n",
    "    (2,5, 'ALOFT'),\n",
    "    (2,5, 'ALOFT'),\n",
    "]\n",
    "\n",
    "with con:\n",
    "    con.executemany(sql,data)\n",
    "    \n",
    "data = pd.read_sql_query(\"Select * from guess\", con)\n",
    "data.head(20)"
   ]
  },
  {
   "cell_type": "code",
   "execution_count": null,
   "id": "ec32a1e4",
   "metadata": {},
   "outputs": [],
   "source": [
    "# Modify records\n",
    "con.execute(\"UPDATE guess set Word = 'TREAD' where Word = 'THREAD'\")\n",
    "\n",
    "data = pd.read_sql_query(\"Select * from guess\", con)\n",
    "data.head(20)"
   ]
  },
  {
   "cell_type": "code",
   "execution_count": null,
   "id": "19764295",
   "metadata": {},
   "outputs": [],
   "source": [
    "# Query distinct rows\n",
    "data = pd.read_sql_query(\"Select Distinct * from guess\", con)\n",
    "data.head(20)"
   ]
  },
  {
   "cell_type": "code",
   "execution_count": null,
   "id": "ccc1fff6",
   "metadata": {},
   "outputs": [],
   "source": [
    "# Delete records\n",
    "con.execute(\"DELETE from guess where Round = 2 and Attempt = 5;\")\n",
    "data = pd.read_sql_query(\"Select Distinct * from guess\", con)\n",
    "data.head(20)"
   ]
  },
  {
   "cell_type": "code",
   "execution_count": null,
   "id": "1fed0c9a",
   "metadata": {},
   "outputs": [],
   "source": [
    "# Working with both tables\n",
    "data = pd.read_sql_query(\"\"\"\n",
    "    Select *\n",
    "    from guess\n",
    "    Left Join key on guess.Round = key.Round\"\"\", con)\n",
    "data.head(20)"
   ]
  },
  {
   "cell_type": "code",
   "execution_count": null,
   "id": "6e2c775a",
   "metadata": {},
   "outputs": [],
   "source": [
    "con.close()"
   ]
  }
 ],
 "metadata": {
  "kernelspec": {
   "display_name": "Python 3 (ipykernel)",
   "language": "python",
   "name": "python3"
  },
  "language_info": {
   "codemirror_mode": {
    "name": "ipython",
    "version": 3
   },
   "file_extension": ".py",
   "mimetype": "text/x-python",
   "name": "python",
   "nbconvert_exporter": "python",
   "pygments_lexer": "ipython3",
   "version": "3.9.12"
  }
 },
 "nbformat": 4,
 "nbformat_minor": 5
}

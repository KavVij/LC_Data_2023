{
 "cells": [
  {
   "cell_type": "code",
   "execution_count": null,
   "id": "7afae725",
   "metadata": {},
   "outputs": [],
   "source": [
    "import sqlite3 as sl\n",
    "import pandas as pd"
   ]
  },
  {
   "cell_type": "code",
   "execution_count": null,
   "id": "bf40b374",
   "metadata": {},
   "outputs": [],
   "source": [
    "# Creating a database from a csv\n",
    "# First create a dataframe\n",
    "\n",
    "df = pd.read_csv('answers.csv')\n",
    "df.head()"
   ]
  },
  {
   "cell_type": "code",
   "execution_count": null,
   "id": "ffd517b7",
   "metadata": {},
   "outputs": [],
   "source": [
    "# Create the database including a table with the dataframe\n",
    "con = sl.connect('wordle.db')\n",
    "df.to_sql(\"key\", con)"
   ]
  },
  {
   "cell_type": "code",
   "execution_count": null,
   "id": "ced52183",
   "metadata": {},
   "outputs": [],
   "source": [
    "# Check the table\n",
    "data = pd.read_sql_query(\"Select * from key\", con)\n",
    "data.head()\n",
    "\n",
    "# Note how sqlite added an index to the table without having to be told!"
   ]
  },
  {
   "cell_type": "code",
   "execution_count": null,
   "id": "29bf5dec",
   "metadata": {},
   "outputs": [],
   "source": [
    "# Creating a table from scratch\n",
    "with con:\n",
    "    con.execute(\"\"\"\n",
    "        CREATE TABLE guess (\n",
    "            Round INTEGER,\n",
    "            Attempt INTEGER,\n",
    "            Word TEXT\n",
    "            );\n",
    "    \"\"\")"
   ]
  },
  {
   "cell_type": "code",
   "execution_count": null,
   "id": "b935e6d5",
   "metadata": {},
   "outputs": [],
   "source": [
    "Adding a record\n",
    "con.execute(\"\"\"INSERT INTO guess (Round, Attempt, Word)\n",
    "        VALUES (1, 1, 'THREAD')\"\"\")\n",
    "\n",
    "data = pd.read_sql_query(\"Select * from guess\", con)\n",
    "data.head()"
   ]
  },
  {
   "cell_type": "code",
   "execution_count": null,
   "id": "20095312",
   "metadata": {},
   "outputs": [],
   "source": [
    "# Adding multiple records\n",
    "sql = 'INSERT INTO guess (Round, Attempt, Word) values(?,?,?)'\n",
    "\n",
    "data = [\n",
    "    (1,1,'THREAD'),\n",
    "    (1,2, 'WHEAT'),\n",
    "    (1,3, 'PLEAT'),\n",
    "    (2,1, 'READY'),\n",
    "    (2,2, 'PAINT'),\n",
    "    (2,3, 'FAINT'), \n",
    "    (2,4, 'AFOOT'),\n",
    "    (2,5, 'ALOFT'),\n",
    "    (2,5, 'ALOFT'),\n",
    "]\n",
    "\n",
    "with con:\n",
    "    con.executemany(sql,data)\n",
    "    \n",
    "data = pd.read_sql_query(\"Select * from guess\", con)\n",
    "data.head(20)"
   ]
  },
  {
   "cell_type": "code",
   "execution_count": null,
   "id": "ec32a1e4",
   "metadata": {},
   "outputs": [],
   "source": [
    "# Modify records\n",
    "con.execute(\"UPDATE guess set Word = 'TREAD' where Word = 'THREAD'\")\n",
    "\n",
    "data = pd.read_sql_query(\"Select * from guess\", con)\n",
    "data.head(20)"
   ]
  },
  {
   "cell_type": "code",
   "execution_count": null,
   "id": "19764295",
   "metadata": {},
   "outputs": [],
   "source": [
    "# Query distinct rows\n",
    "data = pd.read_sql_query(\"Select Distinct * from guess\", con)\n",
    "data.head()"
   ]
  },
  {
   "cell_type": "code",
   "execution_count": null,
   "id": "ccc1fff6",
   "metadata": {},
   "outputs": [],
   "source": [
    "# Delete records\n",
    "con.execute(\"DELETE from guess where Round = 2 and Attempt = 5;\")\n",
    "data = pd.read_sql_query(\"Select Distinct * from guess\", con)\n",
    "data.head(20)"
   ]
  },
  {
   "cell_type": "code",
   "execution_count": null,
   "id": "1fed0c9a",
   "metadata": {},
   "outputs": [],
   "source": [
    "# Working with both tables\n",
    "data = pd.read_sql_query(\"\"\"\n",
    "    Select *\n",
    "    from guess\n",
    "    Left Join key on guess.Round = key.Round\"\"\", con)\n",
    "data.head(20)"
   ]
  },
  {
   "cell_type": "code",
   "execution_count": null,
   "id": "6e2c775a",
   "metadata": {},
   "outputs": [],
   "source": []
  }
 ],
 "metadata": {
  "kernelspec": {
   "display_name": "Python 3 (ipykernel)",
   "language": "python",
   "name": "python3"
  },
  "language_info": {
   "codemirror_mode": {
    "name": "ipython",
    "version": 3
   },
   "file_extension": ".py",
   "mimetype": "text/x-python",
   "name": "python",
   "nbconvert_exporter": "python",
   "pygments_lexer": "ipython3",
   "version": "3.9.12"
  }
 },
 "nbformat": 4,
 "nbformat_minor": 5
}
